{
 "cells": [
  {
   "cell_type": "markdown",
   "metadata": {},
   "source": [
    "# 选择\n",
    "## 布尔类型、数值和表达式\n",
    "![](../Photo/33.png)\n",
    "- 注意：比较运算符的相等是两个等号，一个等到代表赋值\n",
    "- 在Python中可以用整型0来代表False，其他数字来代表True\n",
    "- 后面还会讲到 is 在判断语句中的用发"
   ]
  },
  {
   "cell_type": "code",
   "execution_count": 1,
   "metadata": {},
   "outputs": [
    {
     "data": {
      "text/plain": [
       "True"
      ]
     },
     "execution_count": 1,
     "metadata": {},
     "output_type": "execute_result"
    }
   ],
   "source": [
    "a = 1\n",
    "b = 1\n",
    "a == b"
   ]
  },
  {
   "cell_type": "code",
   "execution_count": 2,
   "metadata": {},
   "outputs": [
    {
     "data": {
      "text/plain": [
       "False"
      ]
     },
     "execution_count": 2,
     "metadata": {},
     "output_type": "execute_result"
    }
   ],
   "source": [
    "a = '1'\n",
    "b = '2'\n",
    "a > b"
   ]
  },
  {
   "cell_type": "code",
   "execution_count": 3,
   "metadata": {},
   "outputs": [
    {
     "data": {
      "text/plain": [
       "True"
      ]
     },
     "execution_count": 3,
     "metadata": {},
     "output_type": "execute_result"
    }
   ],
   "source": [
    "0 == 0"
   ]
  },
  {
   "cell_type": "code",
   "execution_count": 5,
   "metadata": {},
   "outputs": [
    {
     "data": {
      "text/plain": [
       "False"
      ]
     },
     "execution_count": 5,
     "metadata": {},
     "output_type": "execute_result"
    }
   ],
   "source": [
    "0 is 1"
   ]
  },
  {
   "cell_type": "markdown",
   "metadata": {},
   "source": [
    "## 字符串的比较使用ASCII值"
   ]
  },
  {
   "cell_type": "markdown",
   "metadata": {},
   "source": [
    "## Markdown \n",
    "- https://github.com/younghz/Markdown"
   ]
  },
  {
   "cell_type": "code",
   "execution_count": 7,
   "metadata": {},
   "outputs": [
    {
     "data": {
      "text/plain": [
       "False"
      ]
     },
     "execution_count": 7,
     "metadata": {},
     "output_type": "execute_result"
    }
   ],
   "source": [
    "a = 'Annyy'\n",
    "b = 'hahaha'\n",
    "a > b"
   ]
  },
  {
   "cell_type": "markdown",
   "metadata": {},
   "source": [
    "## EP:\n",
    "- <img src=\"../Photo/34.png\"></img>\n",
    "- 输入一个数字，判断其实奇数还是偶数"
   ]
  },
  {
   "cell_type": "code",
   "execution_count": 12,
   "metadata": {},
   "outputs": [
    {
     "data": {
      "text/plain": [
       "1"
      ]
     },
     "execution_count": 12,
     "metadata": {},
     "output_type": "execute_result"
    }
   ],
   "source": [
    "int (True)"
   ]
  },
  {
   "cell_type": "code",
   "execution_count": 13,
   "metadata": {},
   "outputs": [
    {
     "data": {
      "text/plain": [
       "0"
      ]
     },
     "execution_count": 13,
     "metadata": {},
     "output_type": "execute_result"
    }
   ],
   "source": [
    "int (False)"
   ]
  },
  {
   "cell_type": "code",
   "execution_count": 19,
   "metadata": {},
   "outputs": [
    {
     "ename": "NameError",
     "evalue": "name 'condition' is not defined",
     "output_type": "error",
     "traceback": [
      "\u001b[1;31m---------------------------------------------------------------------------\u001b[0m",
      "\u001b[1;31mNameError\u001b[0m                                 Traceback (most recent call last)",
      "\u001b[1;32m<ipython-input-19-cc67d50afefa>\u001b[0m in \u001b[0;36m<module>\u001b[1;34m\u001b[0m\n\u001b[1;32m----> 1\u001b[1;33m \u001b[1;32mif\u001b[0m \u001b[0mcondition\u001b[0m\u001b[1;33m:\u001b[0m\u001b[1;33m\u001b[0m\u001b[1;33m\u001b[0m\u001b[0m\n\u001b[0m\u001b[0;32m      2\u001b[0m     \u001b[1;32mpass\u001b[0m\u001b[1;33m\u001b[0m\u001b[1;33m\u001b[0m\u001b[0m\n\u001b[0;32m      3\u001b[0m \u001b[1;32melse\u001b[0m\u001b[1;33m:\u001b[0m\u001b[1;33m\u001b[0m\u001b[1;33m\u001b[0m\u001b[0m\n\u001b[0;32m      4\u001b[0m     \u001b[1;32mpass\u001b[0m\u001b[1;33m\u001b[0m\u001b[1;33m\u001b[0m\u001b[0m\n",
      "\u001b[1;31mNameError\u001b[0m: name 'condition' is not defined"
     ]
    }
   ],
   "source": [
    "if condition:\n",
    "    pass\n",
    "else:\n",
    "    pass"
   ]
  },
  {
   "cell_type": "code",
   "execution_count": 30,
   "metadata": {},
   "outputs": [
    {
     "ename": "IndentationError",
     "evalue": "expected an indented block (<ipython-input-30-24686958d9c3>, line 3)",
     "output_type": "error",
     "traceback": [
      "\u001b[1;36m  File \u001b[1;32m\"<ipython-input-30-24686958d9c3>\"\u001b[1;36m, line \u001b[1;32m3\u001b[0m\n\u001b[1;33m    print('奇数')\u001b[0m\n\u001b[1;37m        ^\u001b[0m\n\u001b[1;31mIndentationError\u001b[0m\u001b[1;31m:\u001b[0m expected an indented block\n"
     ]
    }
   ],
   "source": [
    "x = eval(input('x:>>'))\n",
    "if bool (x%2):\n",
    "print('奇数')\n",
    "else：\n",
    "        print('偶数')"
   ]
  },
  {
   "cell_type": "markdown",
   "metadata": {},
   "source": [
    "## 产生随机数字\n",
    "- 函数random.randint(a,b) 可以用来产生一个a和b之间且包括a和b的随机整数"
   ]
  },
  {
   "cell_type": "code",
   "execution_count": 31,
   "metadata": {},
   "outputs": [],
   "source": [
    "import random"
   ]
  },
  {
   "cell_type": "code",
   "execution_count": 42,
   "metadata": {
    "scrolled": true
   },
   "outputs": [
    {
     "data": {
      "text/plain": [
       "3"
      ]
     },
     "execution_count": 42,
     "metadata": {},
     "output_type": "execute_result"
    }
   ],
   "source": [
    "random.randint(2,3)"
   ]
  },
  {
   "cell_type": "markdown",
   "metadata": {},
   "source": [
    "产生一个随机数，你去输入，如果你输入的数大于随机数，那么就告诉你太大了，反之，太小了，\n",
    "然后你一直输入，知道它满意为止"
   ]
  },
  {
   "cell_type": "code",
   "execution_count": null,
   "metadata": {},
   "outputs": [],
   "source": [
    "y=random.randint(1,10)"
   ]
  },
  {
   "cell_type": "code",
   "execution_count": null,
   "metadata": {},
   "outputs": [],
   "source": [
    "x = eval(input(\"请输入一个数字\"))\n",
    "if x>y:\n",
    "    print('太大了')\n",
    "if x<y:\n",
    "    print('太小了')\n",
    "if x==y:\n",
    "    print('正确')"
   ]
  },
  {
   "cell_type": "markdown",
   "metadata": {},
   "source": [
    "##  其他random方法\n",
    "- random.random 返回0.0到1.0之间前闭后开区间的随机浮点\n",
    "- random.randrange(a,b) 前闭后开"
   ]
  },
  {
   "cell_type": "markdown",
   "metadata": {},
   "source": [
    "## EP：\n",
    "- 产生两个随机整数number1和number2，然后显示给用户，使用户输入数字的和，并判定其是否正确\n",
    "- 进阶:写一个随机序号点名程序"
   ]
  },
  {
   "cell_type": "code",
   "execution_count": null,
   "metadata": {},
   "outputs": [],
   "source": [
    "number1 = random randint(1.10)\n",
    "number2 = random randint(1.10)\n",
    "print(number1,number2)"
   ]
  },
  {
   "cell_type": "code",
   "execution_count": null,
   "metadata": {},
   "outputs": [],
   "source": [
    "for i in range(5):\n",
    "    x=eval(input('x'))\n",
    "    if x ==(number1+number2):\n",
    "    print('correct')\n",
    "    break\n",
    "    else:\n",
    "        print('error')"
   ]
  },
  {
   "cell_type": "markdown",
   "metadata": {},
   "source": [
    "## if语句\n",
    "- 如果条件正确就执行一个单向if语句，亦即当条件为真的时候才执行if内部的语句\n",
    "- Python有很多选择语句:\n",
    "> - 单向if \n",
    "  - 双向if-else\n",
    "  - 嵌套if\n",
    "  - 多向if-elif-else\n",
    "  \n",
    "- 注意：当语句含有子语句的时候，那么一定至少要有一个缩进，也就是说如果有儿子存在，那么一定要缩进\n",
    "- 切记不可tab键和space混用，单用tab 或者 space\n",
    "- 当你输出的结果是无论if是否为真时都需要显示时，语句应该与if对齐"
   ]
  },
  {
   "cell_type": "markdown",
   "metadata": {},
   "source": [
    "## EP：\n",
    "- 用户输入一个数字，判断其实奇数还是偶数\n",
    "- 进阶：可以查看下4.5实例研究猜生日"
   ]
  },
  {
   "cell_type": "markdown",
   "metadata": {},
   "source": [
    "## 双向if-else 语句\n",
    "- 如果条件为真，那么走if内部语句，否则走else内部语句"
   ]
  },
  {
   "cell_type": "markdown",
   "metadata": {},
   "source": [
    "## EP：\n",
    "- 产生两个随机整数number1和number2，然后显示给用户，使用户输入数字，并判定其是否正确,如果正确打印“you‘re correct”，否则打印正确错误"
   ]
  },
  {
   "cell_type": "markdown",
   "metadata": {},
   "source": [
    "## 嵌套if 和多向if-elif-else\n",
    "![](../Photo/35.png)"
   ]
  },
  {
   "cell_type": "code",
   "execution_count": 2,
   "metadata": {},
   "outputs": [
    {
     "name": "stdout",
     "output_type": "stream",
     "text": [
      "A\n"
     ]
    }
   ],
   "source": [
    "score= 90\n",
    "if score >=90:\n",
    "    grad = 'A'\n",
    "elif score>=80:\n",
    "    grad = 'B'\n",
    "elif score>=70:\n",
    "    grad = \"C\"\n",
    "else:\n",
    "    grad = 'D'\n",
    "print(grad)\n"
   ]
  },
  {
   "cell_type": "code",
   "execution_count": 7,
   "metadata": {},
   "outputs": [
    {
     "name": "stdout",
     "output_type": "stream",
     "text": [
      "身高1.64\n",
      "体重58\n",
      "标准\n"
     ]
    }
   ],
   "source": [
    "high = eval(input('身高'))\n",
    "weight = eval(input('体重'))\n",
    "BMI = weight / high ** 2\n",
    "if BMI < 18.5:\n",
    "    print('超轻')\n",
    "elif 18.5 <= BMI < 25.0:\n",
    "    print('标准')\n",
    "elif 25.0 <= BMI <30.0:\n",
    "    print('超重')\n",
    "elif 30.0 > BMI:\n",
    "    print('超重')\n",
    "else:\n",
    "    print('超级胖胖')"
   ]
  },
  {
   "cell_type": "markdown",
   "metadata": {},
   "source": [
    "## EP：\n",
    "- 提示用户输入一个年份，然后显示表示这一年的动物\n",
    "![](../Photo/36.png)\n",
    "- 计算身体质量指数的程序\n",
    "- BMI = 以千克为单位的体重除以以米为单位的身高的平方\n",
    "![](../Photo/37.png)"
   ]
  },
  {
   "cell_type": "code",
   "execution_count": 4,
   "metadata": {},
   "outputs": [
    {
     "name": "stdout",
     "output_type": "stream",
     "text": [
      "请输入年份1998\n",
      "虎\n",
      "1998\n"
     ]
    }
   ],
   "source": [
    "year = eval(input('请输入年份'))\n",
    "if year%12==0:\n",
    "    print('猴')\n",
    "elif year%12==1:\n",
    "    print('鸡')\n",
    "elif year%12==2:\n",
    "    print('狗')\n",
    "elif year%12==3:\n",
    "    print('猪')\n",
    "elif year%12==4:\n",
    "    print('鼠')\n",
    "elif year%12==5:\n",
    "    print('牛')\n",
    "elif year%12==6:\n",
    "    print('虎')\n",
    "elif year%12==7:\n",
    "    print('兔')\n",
    "elif year%12==8:\n",
    "    print('龙')\n",
    "elif year%12==9:\n",
    "    print('蛇')\n",
    "elif year%12==10:\n",
    "    print('马')\n",
    "elif year%12==11:\n",
    "    print('羊')\n",
    "print(year)"
   ]
  },
  {
   "cell_type": "code",
   "execution_count": null,
   "metadata": {},
   "outputs": [],
   "source": [
    "       "
   ]
  },
  {
   "cell_type": "markdown",
   "metadata": {},
   "source": [
    "## 逻辑运算符\n",
    "![](../Photo/38.png)"
   ]
  },
  {
   "cell_type": "markdown",
   "metadata": {},
   "source": [
    "![](../Photo/39.png)\n",
    "![](../Photo/40.png)"
   ]
  },
  {
   "cell_type": "markdown",
   "metadata": {},
   "source": [
    "## EP：\n",
    "- 判定闰年：一个年份如果能被4整除但不能被100整除，或者能被400整除，那么这个年份就是闰年\n",
    "- 提示用户输入一个年份，并返回是否是闰年\n",
    "- 提示用户输入一个数字，判断其是否为水仙花数"
   ]
  },
  {
   "cell_type": "markdown",
   "metadata": {},
   "source": [
    "## 实例研究：彩票\n",
    "![](../Photo/41.png)"
   ]
  },
  {
   "cell_type": "markdown",
   "metadata": {},
   "source": [
    "# Homework\n",
    "- 1\n",
    "![](../Photo/42.png)"
   ]
  },
  {
   "cell_type": "code",
   "execution_count": 3,
   "metadata": {},
   "outputs": [
    {
     "name": "stdout",
     "output_type": "stream",
     "text": [
      "请输入一个a,b,c的值:1,2.0,1\n",
      "-1.0\n"
     ]
    }
   ],
   "source": [
    "import math\n",
    "a,b,c = eval(input ('请输入一个a,b,c的值:'))\n",
    "h=b*b-4*a*c  #一元二次方程的解\n",
    "r1=(-b+math.sqrt(h))/2*a\n",
    "r2=(-b-math.sqrt(h))/2*a\n",
    "if h > 0:\n",
    "    print(r1,r2)\n",
    "elif h == 0:\n",
    "    print(r1 or r2)\n",
    "elif h < 0:\n",
    "    print('方程无解')"
   ]
  },
  {
   "cell_type": "markdown",
   "metadata": {},
   "source": [
    "- 2\n",
    "![](../Photo/43.png)"
   ]
  },
  {
   "cell_type": "code",
   "execution_count": 5,
   "metadata": {},
   "outputs": [
    {
     "name": "stdout",
     "output_type": "stream",
     "text": [
      "72 58\n",
      "请输入两个数字的和：130\n",
      "真\n"
     ]
    }
   ],
   "source": [
    "import random\n",
    "number1 = random.randrange(0,99)\n",
    "number2 = random.randrange(0,99)\n",
    "print(number1,number2)\n",
    "sum = number1 + number2\n",
    "num = eval(input('请输入两个数字的和：'))\n",
    "if num == sum:\n",
    "    print('真')\n",
    "else :\n",
    "    print(\"假\")"
   ]
  },
  {
   "cell_type": "markdown",
   "metadata": {},
   "source": [
    "- 3\n",
    "![](../Photo/44.png)"
   ]
  },
  {
   "cell_type": "code",
   "execution_count": 1,
   "metadata": {},
   "outputs": [
    {
     "name": "stdout",
     "output_type": "stream",
     "text": [
      "请输入表示今天是一周内哪一天的数字: 3\n",
      "请输入表示今天之后到未来某天的天数: 6\n",
      "2\n"
     ]
    }
   ],
   "source": [
    "num = eval(input(\"请输入表示今天是一周内哪一天的数字: \"))\n",
    "day = eval(input(\"请输入表示今天之后到未来某天的天数: \"))\n",
    "res=(num + day)%7#取余\n",
    "print(res)"
   ]
  },
  {
   "cell_type": "markdown",
   "metadata": {},
   "source": [
    "- 4\n",
    "![](../Photo/45.png)"
   ]
  },
  {
   "cell_type": "code",
   "execution_count": 2,
   "metadata": {},
   "outputs": [
    {
     "name": "stdout",
     "output_type": "stream",
     "text": [
      "请输入第一个整数：6\n",
      "请输入第二个整数：5\n",
      "请输入第三个整数：3\n",
      "6 5 3\n"
     ]
    }
   ],
   "source": [
    "a = int(input('请输入第一个整数：'))\n",
    "b = int(input('请输入第二个整数：'))\n",
    "c = int(input('请输入第三个整数：'))\n",
    "if a >  b > c:\n",
    "     print(a,b,c)\n",
    "elif a > c > b:\n",
    "    print(a,c,b)\n",
    "elif b > a > c:\n",
    "    print(b,a,c)\n",
    "elif b > c > a:\n",
    "    print(b,c,a)\n",
    "elif c > a > b:\n",
    "    print(c,a,b)\n",
    "else:\n",
    "    print(c,b,a)"
   ]
  },
  {
   "cell_type": "markdown",
   "metadata": {},
   "source": [
    "- 5\n",
    "![](../Photo/46.png)"
   ]
  },
  {
   "cell_type": "code",
   "execution_count": 4,
   "metadata": {},
   "outputs": [
    {
     "name": "stdout",
     "output_type": "stream",
     "text": [
      "请输入第一种的重量和价格：50,24.59\n",
      "请输入第二种的重量和价格：25,11.99\n",
      "第2包装种更好\n"
     ]
    }
   ],
   "source": [
    "w1,p1=eval(input('请输入第一种的重量和价格：'))\n",
    "w2,p2=eval(input('请输入第二种的重量和价格：'))\n",
    "if p1<p2:\n",
    "    print(\"第1包装种更好\")\n",
    "elif p1>p2:\n",
    "    print(\"第2包装种更好\")"
   ]
  },
  {
   "cell_type": "markdown",
   "metadata": {},
   "source": [
    "- 6\n",
    "![](../Photo/47.png)"
   ]
  },
  {
   "cell_type": "code",
   "execution_count": 5,
   "metadata": {},
   "outputs": [
    {
     "name": "stdout",
     "output_type": "stream",
     "text": [
      "请输入月份: 6\n",
      "请输入年份: 2019\n",
      "本月30天\n"
     ]
    }
   ],
   "source": [
    "month = eval(input(\"请输入月份: \"))\n",
    "year = eval(input(\"请输入年份: \"))\n",
    "panduan1 = year % 4\n",
    "panduan2 = year % 100\n",
    "panduan3 = year % 400\n",
    "#判断是否闰年\n",
    "if (panduan1 ==  0 and panduan2 != 0) or (panduan3 == 0):\n",
    "    if (month != 2):\n",
    "#判断是否二月\n",
    "        if ((month ==1 or  month == 3 or month == 5 or month ==7)or (month ==8 or month == 12)):\n",
    "            print('本月31天')\n",
    "        else:\n",
    "            print('本月30天')\n",
    "    else :\n",
    "            print('本月29天')\n",
    "else:\n",
    "    if (month != 2):\n",
    "        if ((month ==1 or  month == 3 or month == 5 or month ==7)or (month ==8 or month == 12)):\n",
    "            print('本月31天')\n",
    "        else:\n",
    "            print('本月30天')\n",
    "    else :\n",
    "            print('本月28天')  "
   ]
  },
  {
   "cell_type": "markdown",
   "metadata": {},
   "source": [
    "- 7\n",
    "![](../Photo/48.png)"
   ]
  },
  {
   "cell_type": "code",
   "execution_count": 7,
   "metadata": {},
   "outputs": [
    {
     "name": "stdout",
     "output_type": "stream",
     "text": [
      "猜测硬币是正面还是反面(0/1);0\n",
      "错误\n"
     ]
    }
   ],
   "source": [
    "import random\n",
    "number = random.randint(0,1)\n",
    "yingbi=eval(input('猜测硬币是正面还是反面(0/1);'))\n",
    "if number==yingbi:\n",
    "    print('正确')\n",
    "else:\n",
    "    print('错误')"
   ]
  },
  {
   "cell_type": "markdown",
   "metadata": {},
   "source": [
    "- 8\n",
    "![](../Photo/49.png)"
   ]
  },
  {
   "cell_type": "code",
   "execution_count": 8,
   "metadata": {},
   "outputs": [
    {
     "name": "stdout",
     "output_type": "stream",
     "text": [
      "请输入数字0（剪刀），1（石头）或2（布）： 1\n",
      "电脑赢了\n"
     ]
    }
   ],
   "source": [
    "import random\n",
    "num = random.randint(0,2)\n",
    "num_1 = eval(input('请输入数字0（剪刀），1（石头）或2（布）： '))\n",
    "if (num_1==0 and num==0) or (num_1==1 and num==1) or (num_1==2 and num==2):\n",
    "    print(\"平局\")\n",
    "elif (num_1==0 and num==1) or (num_1==1 and num == 2) or (num_1==2 and num == 0):\n",
    "    print(\"电脑赢了\")\n",
    "elif (num_1==0 and num==2) or (num_1==1 and num == 0) or (num_1==2 and num == 1):\n",
    "    print(\"你赢了\")"
   ]
  },
  {
   "cell_type": "markdown",
   "metadata": {},
   "source": [
    "- 9\n",
    "![](../Photo/50.png)"
   ]
  },
  {
   "cell_type": "code",
   "execution_count": null,
   "metadata": {},
   "outputs": [],
   "source": []
  },
  {
   "cell_type": "markdown",
   "metadata": {},
   "source": [
    "- 10\n",
    "![](../Photo/51.png)"
   ]
  },
  {
   "cell_type": "code",
   "execution_count": 9,
   "metadata": {},
   "outputs": [
    {
     "name": "stdout",
     "output_type": "stream",
     "text": [
      "梅花Q\n"
     ]
    }
   ],
   "source": [
    "import random\n",
    "color = random.randint(0,4)\n",
    "value = random.randint(0,12)\n",
    "huase = ['黑桃','红桃','方块','梅花','王']\n",
    "card = ['A','2','3','4','5','6','7','8','9','10','J','Q','K']\n",
    "print(huase[color]+card[value])"
   ]
  },
  {
   "cell_type": "markdown",
   "metadata": {},
   "source": [
    "- 11\n",
    "![](../Photo/52.png)"
   ]
  },
  {
   "cell_type": "code",
   "execution_count": 10,
   "metadata": {},
   "outputs": [
    {
     "name": "stdout",
     "output_type": "stream",
     "text": [
      "请输入一个整数5\n",
      "5 is a palindrome\n"
     ]
    }
   ],
   "source": [
    "num = input('请输入一个整数')\n",
    "num = num[::-1]\n",
    "if num == num:\n",
    "    print(num,\"is a palindrome\")\n",
    "else:\n",
    "    print(num,\"is not a palindrome\")"
   ]
  },
  {
   "cell_type": "markdown",
   "metadata": {},
   "source": [
    "- 12\n",
    "![](../Photo/53.png)"
   ]
  },
  {
   "cell_type": "code",
   "execution_count": 11,
   "metadata": {},
   "outputs": [
    {
     "name": "stdout",
     "output_type": "stream",
     "text": [
      "请输入三角形的三个边长1,1,1\n",
      "3\n"
     ]
    }
   ],
   "source": [
    "a,b,c = eval(input('请输入三角形的三个边长'))\n",
    "if (a+b)>c and (a+c)>b and (c+b)>a:\n",
    "    zhouchang = a+b+c\n",
    "    print(zhouchang)\n",
    "else:\n",
    "    print('不是三角形')"
   ]
  }
 ],
 "metadata": {
  "kernelspec": {
   "display_name": "Python 3",
   "language": "python",
   "name": "python3"
  },
  "language_info": {
   "codemirror_mode": {
    "name": "ipython",
    "version": 3
   },
   "file_extension": ".py",
   "mimetype": "text/x-python",
   "name": "python",
   "nbconvert_exporter": "python",
   "pygments_lexer": "ipython3",
   "version": "3.7.3"
  }
 },
 "nbformat": 4,
 "nbformat_minor": 2
}
