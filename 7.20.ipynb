{
 "cells": [
  {
   "cell_type": "markdown",
   "metadata": {},
   "source": [
    "# 函数\n",
    "\n",
    "- 函数可以用来定义可重复代码，组织和简化\n",
    "- 一般来说一个函数在实际开发中为一个小功能\n",
    "- 一个类为一个大功能\n",
    "- 同样函数的长度不要超过一屏"
   ]
  },
  {
   "cell_type": "markdown",
   "metadata": {},
   "source": [
    "Python中的所有函数实际上都是有返回值(return None),\n",
    "\n",
    "如果你没有设置return,那么Python将不显示None.\n",
    "\n",
    "如果你设置return,那么将返回出return这个值."
   ]
  },
  {
   "cell_type": "code",
   "execution_count": 1,
   "metadata": {},
   "outputs": [],
   "source": [
    "def YY():\n",
    "    print('yyyyyyy')"
   ]
  },
  {
   "cell_type": "code",
   "execution_count": 2,
   "metadata": {},
   "outputs": [
    {
     "name": "stdout",
     "output_type": "stream",
     "text": [
      "yyyyyyy\n"
     ]
    }
   ],
   "source": [
    "YY()"
   ]
  },
  {
   "cell_type": "code",
   "execution_count": 8,
   "metadata": {},
   "outputs": [],
   "source": [
    "def YY(name):\n",
    "    print(name,'儿子')"
   ]
  },
  {
   "cell_type": "code",
   "execution_count": 9,
   "metadata": {},
   "outputs": [
    {
     "name": "stdout",
     "output_type": "stream",
     "text": [
      "娄宇博 儿子\n"
     ]
    }
   ],
   "source": [
    "YY('娄宇博')"
   ]
  },
  {
   "cell_type": "code",
   "execution_count": 13,
   "metadata": {},
   "outputs": [
    {
     "ename": "SyntaxError",
     "evalue": "invalid character in identifier (<ipython-input-13-aa44f5983538>, line 1)",
     "output_type": "error",
     "traceback": [
      "\u001b[1;36m  File \u001b[1;32m\"<ipython-input-13-aa44f5983538>\"\u001b[1;36m, line \u001b[1;32m1\u001b[0m\n\u001b[1;33m    def YY(name1,name2='娄宇博')：\u001b[0m\n\u001b[1;37m                             ^\u001b[0m\n\u001b[1;31mSyntaxError\u001b[0m\u001b[1;31m:\u001b[0m invalid character in identifier\n"
     ]
    }
   ],
   "source": [
    "def YY(name1,name2='娄宇博')：\n",
    "    print(name1,'矮子')\n",
    "    print(name2,'瘦子')"
   ]
  },
  {
   "cell_type": "code",
   "execution_count": 14,
   "metadata": {},
   "outputs": [
    {
     "name": "stdout",
     "output_type": "stream",
     "text": [
      "LYB 儿子\n"
     ]
    }
   ],
   "source": [
    "YY('LYB')\n"
   ]
  },
  {
   "cell_type": "markdown",
   "metadata": {},
   "source": [
    "## 定义一个函数\n",
    "\n",
    "def function_name(list of parameters):\n",
    "    \n",
    "    do something\n",
    "![](../Photo/69.png)\n",
    "- 以前使用的random 或者range 或者print.. 其实都是函数或者类"
   ]
  },
  {
   "cell_type": "code",
   "execution_count": null,
   "metadata": {},
   "outputs": [],
   "source": []
  },
  {
   "cell_type": "markdown",
   "metadata": {},
   "source": [
    "函数的参数如果有默认值的情况,当你调用该函数的时候:\n",
    "可以不给予参数值,那么就会走该参数的默认值\n",
    "否则的话,就走你给予的参数值."
   ]
  },
  {
   "cell_type": "markdown",
   "metadata": {},
   "source": [
    "## 调用一个函数\n",
    "- functionName()\n",
    "- \"()\" 就代表调用"
   ]
  },
  {
   "cell_type": "markdown",
   "metadata": {},
   "source": [
    "![](../Photo/70.png)"
   ]
  },
  {
   "cell_type": "markdown",
   "metadata": {},
   "source": [
    "## 带返回值和不带返回值的函数\n",
    "- return 返回的内容\n",
    "- return 返回多个值\n",
    "- 一般情况下，在多个函数协同完成一个功能的时候，那么将会有返回值"
   ]
  },
  {
   "cell_type": "markdown",
   "metadata": {},
   "source": [
    "![](../Photo/71.png)\n",
    "\n",
    "- 当然也可以自定义返回None"
   ]
  },
  {
   "cell_type": "markdown",
   "metadata": {},
   "source": [
    "## EP：\n",
    "![](../Photo/72.png)"
   ]
  },
  {
   "cell_type": "markdown",
   "metadata": {},
   "source": [
    "## 类型和关键字参数\n",
    "- 普通参数\n",
    "- 多个参数\n",
    "- 默认值参数\n",
    "- 不定长参数"
   ]
  },
  {
   "cell_type": "markdown",
   "metadata": {},
   "source": [
    "## 普通参数"
   ]
  },
  {
   "cell_type": "markdown",
   "metadata": {},
   "source": [
    "## 多个参数"
   ]
  },
  {
   "cell_type": "markdown",
   "metadata": {},
   "source": [
    "## 默认值参数"
   ]
  },
  {
   "cell_type": "markdown",
   "metadata": {},
   "source": [
    "## 强制命名"
   ]
  },
  {
   "cell_type": "markdown",
   "metadata": {},
   "source": [
    "## 不定长参数\n",
    "- \\*args\n",
    "> - 不定长，来多少装多少，不装也是可以的\n",
    "  - 返回的数据类型是元组\n",
    "  - args 名字是可以修改的，只是我们约定俗成的是args\n",
    "- \\**kwargs \n",
    "> - 返回的字典\n",
    "  - 输入的一定要是表达式（键值对）\n",
    "- name,\\*args,name2,\\**kwargs  使用参数名"
   ]
  },
  {
   "cell_type": "markdown",
   "metadata": {},
   "source": [
    "## 变量的作用域\n",
    "- 局部变量 local\n",
    "- 全局变量 global\n",
    "- globals 函数返回一个全局变量的字典，包括所有导入的变量\n",
    "- locals() 函数会以字典类型返回当前位置的全部局部变量。"
   ]
  },
  {
   "cell_type": "markdown",
   "metadata": {},
   "source": [
    "## 注意：\n",
    "- global ：在进行赋值操作的时候需要声明\n",
    "- 官方解释：This is because when you make an assignment to a variable in a scope, that variable becomes local to that scope and shadows any similarly named variable in the outer scope.\n",
    "- ![](../Photo/73.png)"
   ]
  },
  {
   "cell_type": "markdown",
   "metadata": {},
   "source": [
    "# Homework\n",
    "- 1\n",
    "![](../Photo/74.png)"
   ]
  },
  {
   "cell_type": "code",
   "execution_count": 3,
   "metadata": {},
   "outputs": [],
   "source": [
    "def getpentagonalnumber( ):\n",
    "    n = 0\n",
    "    count = 0\n",
    "    for i in range(1,101):\n",
    "        wujiao = (n * (3*n-1))/2\n",
    "        n += 1\n",
    "        x = n*(3*n-1)/2\n",
    "        print(int(wujiao),end = '    ')\n",
    "        count += 1\n",
    "        if count % 10 == 0:\n",
    "            print( )"
   ]
  },
  {
   "cell_type": "markdown",
   "metadata": {},
   "source": [
    "- 2 \n",
    "![](../Photo/75.png)"
   ]
  },
  {
   "cell_type": "code",
   "execution_count": 3,
   "metadata": {},
   "outputs": [],
   "source": [
    "def sum_(*he):\n",
    "    print(he)\n",
    "    h=0\n",
    "    for n in he:\n",
    "        h=n+h\n",
    "    print(h)\n",
    "    return h"
   ]
  },
  {
   "cell_type": "code",
   "execution_count": 4,
   "metadata": {},
   "outputs": [
    {
     "name": "stdout",
     "output_type": "stream",
     "text": [
      "(2, 3, 4)\n",
      "9\n"
     ]
    },
    {
     "data": {
      "text/plain": [
       "9"
      ]
     },
     "execution_count": 4,
     "metadata": {},
     "output_type": "execute_result"
    }
   ],
   "source": [
    "sum_(2,3,4)"
   ]
  },
  {
   "cell_type": "markdown",
   "metadata": {},
   "source": [
    "- 3\n",
    "![](../Photo/76.png)"
   ]
  },
  {
   "cell_type": "code",
   "execution_count": 2,
   "metadata": {},
   "outputs": [
    {
     "ename": "SyntaxError",
     "evalue": "invalid syntax (<ipython-input-2-847f742202d0>, line 1)",
     "output_type": "error",
     "traceback": [
      "\u001b[1;36m  File \u001b[1;32m\"<ipython-input-2-847f742202d0>\"\u001b[1;36m, line \u001b[1;32m1\u001b[0m\n\u001b[1;33m    f max_():\u001b[0m\n\u001b[1;37m         ^\u001b[0m\n\u001b[1;31mSyntaxError\u001b[0m\u001b[1;31m:\u001b[0m invalid syntax\n"
     ]
    }
   ],
   "source": [
    "f max_():\n",
    "    num1 = int(input('请输入第一个数：'))\n",
    "    num2 = int(input('请输入第二个数：'))\n",
    "    num3 = int(input('请输入第三个数：'))\n",
    "    if num1 >= num2:\n",
    "        if num1 >= num3:\n",
    "            if num2 >= num3:\n",
    "                print(num3,num2,num1)\n",
    "            else:\n",
    "                print(num2,num3,num1)\n",
    "        else:\n",
    "            print(num2,num1,num3)\n",
    "    else:\n",
    "        if num1 >= num3:\n",
    "            print(num3,num1,num2)\n",
    "        elif num2 >= num3:\n",
    "            print(num1,num3,num2)\n",
    "        else:\n",
    "            print(num1,num2,num3)\n",
    "        print(max_)\n",
    "    return max_    "
   ]
  },
  {
   "cell_type": "markdown",
   "metadata": {},
   "source": [
    "- 4\n",
    "![](../Photo/77.png)"
   ]
  },
  {
   "cell_type": "code",
   "execution_count": 8,
   "metadata": {},
   "outputs": [],
   "source": [
    "import math"
   ]
  },
  {
   "cell_type": "code",
   "execution_count": 9,
   "metadata": {},
   "outputs": [],
   "source": [
    "def futureIV(IA,year,years):\n",
    "    for i in range(0,30):\n",
    "            FV = IA * math.pow((1 + year/100),i)\n",
    "            i += 1\n",
    "            print(i,FV)"
   ]
  },
  {
   "cell_type": "code",
   "execution_count": 10,
   "metadata": {},
   "outputs": [
    {
     "name": "stdout",
     "output_type": "stream",
     "text": [
      "The amount invested:1000\n",
      "Annual interest rate:9\n",
      "1 1000.0\n",
      "2 1090.0\n",
      "3 1188.1000000000001\n",
      "4 1295.0290000000002\n",
      "5 1411.5816100000004\n",
      "6 1538.6239549000004\n",
      "7 1677.1001108410007\n",
      "8 1828.039120816691\n",
      "9 1992.5626416901935\n",
      "10 2171.893279442311\n",
      "11 2367.363674592119\n",
      "12 2580.42640530541\n",
      "13 2812.664781782897\n",
      "14 3065.8046121433576\n",
      "15 3341.7270272362603\n",
      "16 3642.482459687524\n",
      "17 3970.3058810594016\n",
      "18 4327.633410354748\n",
      "19 4717.120417286676\n",
      "20 5141.661254842477\n",
      "21 5604.4107677783\n",
      "22 6108.807736878347\n",
      "23 6658.6004331974\n",
      "24 7257.874472185165\n",
      "25 7911.083174681831\n",
      "26 8623.080660403197\n",
      "27 9399.157919839485\n",
      "28 10245.08213262504\n",
      "29 11167.139524561295\n",
      "30 12172.182081771813\n"
     ]
    }
   ],
   "source": [
    "IA = eval(input('The amount invested:'))\n",
    "year = eval(input('Annual interest rate:'))\n",
    "futureIV(IA,year,30)"
   ]
  },
  {
   "cell_type": "markdown",
   "metadata": {},
   "source": [
    "- 5\n",
    "![](../Photo/78.png)"
   ]
  },
  {
   "cell_type": "code",
   "execution_count": 12,
   "metadata": {},
   "outputs": [],
   "source": [
    "def printChars9(ch1,ch2):\n",
    "    count = 0\n",
    "    for i in range(49,91):\n",
    "        print(chr(i),end=' ')\n",
    "        count += 1\n",
    "        if count % 10 == 0:\n",
    "            print()"
   ]
  },
  {
   "cell_type": "code",
   "execution_count": 13,
   "metadata": {},
   "outputs": [
    {
     "name": "stdout",
     "output_type": "stream",
     "text": [
      "1 2 3 4 5 6 7 8 9 : \n",
      "; < = > ? @ A B C D \n",
      "E F G H I J K L M N \n",
      "O P Q R S T U V W X \n",
      "Y Z "
     ]
    }
   ],
   "source": [
    "printChars9(49,90)"
   ]
  },
  {
   "cell_type": "markdown",
   "metadata": {},
   "source": [
    "- 6\n",
    "![](../Photo/79.png)"
   ]
  },
  {
   "cell_type": "code",
   "execution_count": null,
   "metadata": {},
   "outputs": [],
   "source": []
  },
  {
   "cell_type": "markdown",
   "metadata": {},
   "source": [
    "- 7\n",
    "![](../Photo/80.png)"
   ]
  },
  {
   "cell_type": "markdown",
   "metadata": {},
   "source": [
    "- 8\n",
    "![](../Photo/81.png)"
   ]
  },
  {
   "cell_type": "markdown",
   "metadata": {},
   "source": [
    "- 9\n",
    "![](../Photo/82.png)\n",
    "![](../Photo/83.png)"
   ]
  },
  {
   "cell_type": "code",
   "execution_count": 4,
   "metadata": {},
   "outputs": [
    {
     "ename": "SyntaxError",
     "evalue": "invalid syntax (<ipython-input-4-d250a94396bc>, line 1)",
     "output_type": "error",
     "traceback": [
      "\u001b[1;36m  File \u001b[1;32m\"<ipython-input-4-d250a94396bc>\"\u001b[1;36m, line \u001b[1;32m1\u001b[0m\n\u001b[1;33m    package com.im;\u001b[0m\n\u001b[1;37m              ^\u001b[0m\n\u001b[1;31mSyntaxError\u001b[0m\u001b[1;31m:\u001b[0m invalid syntax\n"
     ]
    }
   ],
   "source": [
    "package com.im;\n",
    "\n",
    "public class Demo624 \n",
    "Time when file data was last accessed. Changed by  the\n",
    "           following   functions:   creat(),   mknod(),   pipe(),\n",
    "           utime(2), and read(2)."
   ]
  },
  {
   "cell_type": "markdown",
   "metadata": {},
   "source": [
    "- 10\n",
    "![](../Photo/84.png)"
   ]
  },
  {
   "cell_type": "markdown",
   "metadata": {},
   "source": [
    "- 11 \n",
    "### 去网上寻找如何用Python代码发送邮件"
   ]
  },
  {
   "cell_type": "code",
   "execution_count": null,
   "metadata": {},
   "outputs": [],
   "source": [
    "#! /usr/bin/env python  \n",
    "\n",
    "import smtpli\n",
    "\n",
    "from email.mime.text import MIMEText\n",
    "\n",
    "mailto_list=['xxxx@xxx.com']           #收件人(列表)\n",
    "\n",
    "mail_host=\"smtp.163.com\"            #使用的邮箱的smtp服务器地址\n",
    "\n",
    "mail_user=\"name\"                           #用户名\n",
    "\n",
    "mail_pass=\"pwd\"                             #密码\n",
    "\n",
    "mail_postfix=\"postfix\"                     #邮箱的后缀\n",
    "\n",
    "def send_mail(to_list,sub,content):\n",
    "\n",
    "    me=\"hello\"+\"<\"+mail_user+\"@\"+mail_postfix+\">\"\n",
    "\n",
    "    msg = MIMEText(content,_subtype='plain')\n",
    "\n",
    "    msg['Subject'] = sub\n",
    "\n",
    "    msg['From'] = me\n",
    "\n",
    "    msg['To'] = \";\".join(to_list)                #将收件人列表以‘；’分隔\n",
    "\n",
    "    try:\n",
    "\n",
    "        server = smtplib.SMTP()\n",
    "\n",
    "        server.connect(mail_host)                            #连接服务器\n",
    "\n",
    "        server.login(mail_user,mail_pass)               #登录操作\n",
    "\n",
    "        server.sendmail(me, to_list, msg.as_string())\n",
    "\n",
    "        server.close()\n",
    "\n",
    "        return True\n",
    "\n",
    "    except Exception, e:\n",
    "\n",
    "        print str(e)\n",
    "\n",
    "        return False\n",
    "\n",
    "for i in range(5):                             #发送五封，不过会被拦截的。。。\n",
    "\n",
    "    if send_mail(mailto_list,\"hello\",\"haha!\"):  #邮件主题和邮件内容\n",
    "\n",
    "        print \"done!\"\n",
    "\n",
    "    else:\n",
    "\n",
    "        print \"failed!\""
   ]
  }
 ],
 "metadata": {
  "kernelspec": {
   "display_name": "Python 3",
   "language": "python",
   "name": "python3"
  },
  "language_info": {
   "codemirror_mode": {
    "name": "ipython",
    "version": 3
   },
   "file_extension": ".py",
   "mimetype": "text/x-python",
   "name": "python",
   "nbconvert_exporter": "python",
   "pygments_lexer": "ipython3",
   "version": "3.7.3"
  }
 },
 "nbformat": 4,
 "nbformat_minor": 2
}
